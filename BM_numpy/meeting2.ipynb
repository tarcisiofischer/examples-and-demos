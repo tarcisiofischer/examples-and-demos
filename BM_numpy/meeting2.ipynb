{
 "cells": [
  {
   "cell_type": "code",
   "execution_count": null,
   "metadata": {
    "collapsed": false
   },
   "outputs": [],
   "source": [
    "%matplotlib inline\n",
    "import numpy as np"
   ]
  },
  {
   "cell_type": "markdown",
   "metadata": {},
   "source": [
    "# Broadcasting"
   ]
  },
  {
   "cell_type": "markdown",
   "metadata": {},
   "source": [
    "## Example 1: Quick and simple broadcast sum"
   ]
  },
  {
   "cell_type": "code",
   "execution_count": null,
   "metadata": {
    "collapsed": false
   },
   "outputs": [],
   "source": [
    "# Same example as the last time...\n",
    "A = np.array([0.0, 10.0, 20.0, 30.0]).reshape((4,1))\n",
    "B = np.array([1.0, 2.0, 3.0])\n",
    "\n",
    "print A.shape\n",
    "print B.shape\n",
    "print A + B\n",
    "# What the hell just happened?"
   ]
  },
  {
   "cell_type": "raw",
   "metadata": {},
   "source": [
    "Initial shapes\n",
    "A -> 4 1\n",
    "B ->   3\n",
    "\n",
    "Step1: Append 1's to the left\n",
    "A -> 4 1\n",
    "B -> 1 3\n",
    "\n",
    "Step2: Change 1's to higher numbers (Repeat values to complete)\n",
    "A -> 4 3\n",
    "B -> 4 3"
   ]
  },
  {
   "cell_type": "code",
   "execution_count": null,
   "metadata": {
    "collapsed": false
   },
   "outputs": [],
   "source": [
    "# But does that make any sense?\n",
    "# I think so. Check the next examples."
   ]
  },
  {
   "cell_type": "markdown",
   "metadata": {},
   "source": [
    "## Example 2: Move all 2d points making its center to the origin"
   ]
  },
  {
   "cell_type": "code",
   "execution_count": null,
   "metadata": {
    "collapsed": false
   },
   "outputs": [],
   "source": [
    "from matplotlib import pyplot as plt\n",
    "npoints = 4*4\n",
    "xs = np.tile(np.arange(0, np.sqrt(npoints), dtype=np.float64), np.sqrt(npoints))\n",
    "ys = np.repeat(np.arange(0, np.sqrt(npoints), dtype=np.float64), np.sqrt(npoints))\n",
    "pts = np.empty(shape=(npoints, 2), dtype=np.float64)\n",
    "pts[:,0] = xs\n",
    "pts[:,1] = ys\n",
    "plt.scatter(pts[:,0],pts[:,1])\n",
    "plt.plot(pts[:,0], pts[:,1], 'ro')"
   ]
  },
  {
   "cell_type": "code",
   "execution_count": null,
   "metadata": {
    "collapsed": false
   },
   "outputs": [],
   "source": [
    "print pts"
   ]
  },
  {
   "cell_type": "code",
   "execution_count": null,
   "metadata": {
    "collapsed": false
   },
   "outputs": [],
   "source": [
    "center = np.mean(pts, axis=0)\n",
    "pts = pts - center # Broadcast!\n",
    "# pts.shape    = 16 2\n",
    "# center.shape =    2\n",
    "\n",
    "# First rule: 1's to the left\n",
    "# pts.shape    = 16 2\n",
    "# center.shape =  1 2\n",
    "\n",
    "# Second rule: Complete 1's with higher values\n",
    "# pts.shape    = 16 2\n",
    "# center.shape = 16 2\n",
    "\n",
    "# Third rule: All shapes are equal. Go on!\n",
    "plt.scatter(pts[:,0],pts[:,1])\n",
    "plt.plot(pts[:,0], pts[:,1], 'bo')"
   ]
  },
  {
   "cell_type": "markdown",
   "metadata": {},
   "source": [
    "## Example 3: Get all points in Y = 1.0 or Y = 2.0 with a tolerance of +/- 0.1"
   ]
  },
  {
   "cell_type": "code",
   "execution_count": null,
   "metadata": {
    "collapsed": false
   },
   "outputs": [],
   "source": [
    "pts = np.array([\n",
    "  [1.577, 100.7,  2.09],\n",
    "  [3.3,   2.01,   2.03],\n",
    "  [4.2,   1.995,  5.333],\n",
    "  [2.2,   10.8,   8.1],\n",
    "  [2.2,   1.02,   2.],\n",
    "  [1.001, 0.9999, 9.9513],\n",
    "])\n",
    "valid_ys = np.array([2.0, 1.0])\n",
    "tolerance = 0.1"
   ]
  },
  {
   "cell_type": "code",
   "execution_count": null,
   "metadata": {
    "collapsed": false
   },
   "outputs": [],
   "source": [
    "# Get the Y values from the original list\n",
    "y_values = pts[:,1]\n",
    "print y_values\n",
    "print y_values.shape\n",
    "\n",
    "# Proposed solution: Let's first get the difference between the y_values and the valid_ys.\n",
    "# Problem is: valid_ys also have one dimension, so we won't be able to do broadcasting\n",
    "print valid_ys.shape"
   ]
  },
  {
   "cell_type": "code",
   "execution_count": null,
   "metadata": {
    "collapsed": false
   },
   "outputs": [],
   "source": [
    "# Solution: reshape\n",
    "#y_values = y_values.reshape(6,1)\n",
    "y_values = y_values.reshape(-1,1)\n",
    "#y_values = y_values[:,np.newaxis]\n",
    "print y_values\n",
    "print y_values.shape"
   ]
  },
  {
   "cell_type": "code",
   "execution_count": null,
   "metadata": {
    "collapsed": false
   },
   "outputs": [],
   "source": [
    "# Get the difference between each value with each valid y\n",
    "difference = y_values - valid_ys # Broadcast!\n",
    "\n",
    "# Explaining the broadcast:\n",
    "# y_values.shape = 6, 1\n",
    "# valid_ys.shape =    2\n",
    "\n",
    "# First rule: 1's to the left\n",
    "# y_values.shape = 6, 1\n",
    "# valid_ys.shape = 1, 2\n",
    "\n",
    "# Second rule: Complete 1's with higher values\n",
    "# y_values.shape = 6, 2\n",
    "# valid_ys.shape = 6, 2\n",
    "\n",
    "# Third rule: All shapes are equal. Go on! Result shape=6, 2\n",
    "print difference.shape\n",
    "print difference"
   ]
  },
  {
   "cell_type": "code",
   "execution_count": null,
   "metadata": {
    "collapsed": false
   },
   "outputs": [],
   "source": [
    "tolerance = 0.1\n",
    "close_to_tolerance = abs(difference) < tolerance # Broadcast!\n",
    "\n",
    "# Note: Actually, 'tolerance' is a python 'float':\n",
    "print type(tolerance)\n",
    "# But the '<' function will convert it to numpy array to make the operation possible.\n",
    "# Even if you don't believe me, I'll force a numpy array here to make sure it is:\n",
    "tolerance = np.array([tolerance])\n",
    "\n",
    "print type(tolerance)\n",
    "print difference.shape\n",
    "print tolerance.shape"
   ]
  },
  {
   "cell_type": "code",
   "execution_count": null,
   "metadata": {
    "collapsed": false
   },
   "outputs": [],
   "source": [
    "# Explaining the broadcast:\n",
    "# difference.shape = 6, 2\n",
    "# tolerance.shape  =    1\n",
    "\n",
    "# First rule: 1's to the left\n",
    "# difference.shape = 6, 2\n",
    "# tolerance.shape  = 1, 1\n",
    "\n",
    "# Second rule: Complete 1's with higher values\n",
    "# difference.shape = 6, 2\n",
    "# tolerance.shape  = 6, 2\n",
    "\n",
    "# Third rule: All shapes are equal. Go on! Result shape=6, 2\n",
    "close_to_tolerance = abs(difference) < tolerance # Broadcast!\n",
    "\n",
    "print close_to_tolerance.shape\n",
    "print close_to_tolerance"
   ]
  },
  {
   "cell_type": "code",
   "execution_count": null,
   "metadata": {
    "collapsed": false
   },
   "outputs": [],
   "source": [
    "# Finally, get the lines where any of the values are True\n",
    "\n",
    "# np.any: Test whether any array element along a given axis evaluates to True.\n",
    "result = np.any(close_to_tolerance, axis=1)\n",
    "\n",
    "# close_to_tolerance.shape = 6, 2\n",
    "#                            ^  ^\n",
    "#                            +--|--- Axis 0\n",
    "#                               +--- Axis 1\n",
    "print result.shape\n",
    "print result\n"
   ]
  },
  {
   "cell_type": "code",
   "execution_count": null,
   "metadata": {
    "collapsed": false
   },
   "outputs": [],
   "source": [
    "print pts\n",
    "print\n",
    "print pts[result]\n",
    "print\n",
    "print pts[~result]"
   ]
  },
  {
   "cell_type": "markdown",
   "metadata": {},
   "source": [
    "# Universal Functions"
   ]
  },
  {
   "cell_type": "code",
   "execution_count": null,
   "metadata": {
    "collapsed": false
   },
   "outputs": [],
   "source": [
    " def my_func(x):\n",
    "    if x > 10:\n",
    "        return 0.0\n",
    "    return x + 1.5\n",
    "\n",
    "data = np.array([11, 1,2,30,40])\n",
    "# This wont work\n",
    "#my_func(data)\n",
    "\n",
    "f = np.frompyfunc(my_func, 1, 1)\n",
    "#my_array = np.array([1,2,3], dtype=np.float64)\n",
    "#a = f(np.float64(10))\n",
    "#print type(a)\n",
    "#a.dtype\n",
    "\n",
    "f2 = np.vectorize(my_func, ...)\n",
    "#a = f2(data, data)\n",
    "#print type(a)\n",
    "#print a\n",
    "#print a.dtype\n",
    "\n"
   ]
  },
  {
   "cell_type": "code",
   "execution_count": null,
   "metadata": {
    "collapsed": false
   },
   "outputs": [],
   "source": [
    "from time import time\n",
    "\n",
    "# Which one is faster?\n",
    "start = time()\n",
    "expected = f(np.arange(1e+7))\n",
    "print time() - start\n",
    "\n",
    "start = time()\n",
    "o1 = f2(np.arange(1e+7))\n",
    "print time() - start\n",
    "assert np.all(expected == o1)\n",
    "\n",
    "start = time()\n",
    "o2 = []\n",
    "for i in xrange(int(1e+7)):\n",
    "    o2.append(my_func(i))\n",
    "print time() - start\n",
    "assert np.all(expected == o2)\n",
    "\n",
    "start = time()\n",
    "data = np.arange(1e+7)\n",
    "mask = data > 10\n",
    "data += 1\n",
    "data[mask] = 0.0\n",
    "print time() - start\n",
    "assert np.all(expected == data)"
   ]
  },
  {
   "cell_type": "code",
   "execution_count": null,
   "metadata": {
    "collapsed": true
   },
   "outputs": [],
   "source": [
    "# What else is different? ... (To be cont. ...)"
   ]
  }
 ],
 "metadata": {
  "kernelspec": {
   "display_name": "Python 2",
   "language": "python",
   "name": "python2"
  },
  "language_info": {
   "codemirror_mode": {
    "name": "ipython",
    "version": 2
   },
   "file_extension": ".py",
   "mimetype": "text/x-python",
   "name": "python",
   "nbconvert_exporter": "python",
   "pygments_lexer": "ipython2",
   "version": "2.7.10"
  }
 },
 "nbformat": 4,
 "nbformat_minor": 0
}
