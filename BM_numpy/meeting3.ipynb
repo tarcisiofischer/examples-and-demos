{
 "cells": [
  {
   "cell_type": "code",
   "execution_count": 4,
   "metadata": {
    "collapsed": false
   },
   "outputs": [],
   "source": [
    "%matplotlib inline\n",
    "import numpy as np\n",
    "import numba\n",
    "from time import time\n",
    "from itertools import izip"
   ]
  },
  {
   "cell_type": "markdown",
   "metadata": {},
   "source": [
    "# Universal Functions"
   ]
  },
  {
   "cell_type": "code",
   "execution_count": 34,
   "metadata": {
    "collapsed": false,
    "scrolled": true
   },
   "outputs": [
    {
     "name": "stdout",
     "output_type": "stream",
     "text": [
      "[ 5.  7.  9.]\n",
      "[-3. -3. -3.]\n",
      "[  4.  10.  18.]\n",
      "[ 0.25  0.4   0.5 ]\n"
     ]
    }
   ],
   "source": [
    "# Some common universal functions: +, -, /, *\n",
    "a = np.array([1., 2., 3.])\n",
    "b = np.array([4., 5., 6.])\n",
    "\n",
    "# The operation is made element-wise\n",
    "print a + b\n",
    "print a - b\n",
    "print a * b\n",
    "print a / b"
   ]
  },
  {
   "cell_type": "code",
   "execution_count": 35,
   "metadata": {
    "collapsed": false
   },
   "outputs": [
    {
     "name": "stdout",
     "output_type": "stream",
     "text": [
      "[6 7 8 9]\n"
     ]
    }
   ],
   "source": [
    "# Broadcast rules apply\n",
    "print np.array([1, 2, 3, 4]) + 5"
   ]
  },
  {
   "cell_type": "markdown",
   "metadata": {},
   "source": [
    "##Creating our own ufunc"
   ]
  },
  {
   "cell_type": "code",
   "execution_count": 36,
   "metadata": {
    "collapsed": false
   },
   "outputs": [
    {
     "name": "stdout",
     "output_type": "stream",
     "text": [
      "I can't do it :(\n"
     ]
    }
   ],
   "source": [
    "def my_func(x):\n",
    "    if x > 10:\n",
    "        return 0.0 # NOTE: This function is weird, as it returns different data types depending on the input.\n",
    "    return x + 1\n",
    "\n",
    "data = np.array([1,2,30,40])\n",
    "# This wont work\n",
    "try:\n",
    "    my_func(data)\n",
    "except Exception:\n",
    "    print \"I can\\'t do it :(\""
   ]
  },
  {
   "cell_type": "markdown",
   "metadata": {},
   "source": [
    "### frompyfunc"
   ]
  },
  {
   "cell_type": "code",
   "execution_count": 37,
   "metadata": {
    "collapsed": false
   },
   "outputs": [
    {
     "name": "stdout",
     "output_type": "stream",
     "text": [
      "[2 3 0.0 0.0]\n",
      "object\n"
     ]
    }
   ],
   "source": [
    "def my_func(x):\n",
    "    if x > 10:\n",
    "        return 0.0 # NOTE: This function is weird, as it returns different data types depending on the input.\n",
    "    return x + 1\n",
    "\n",
    "data = np.array([1,2,30,40])\n",
    "\n",
    "f = np.frompyfunc(my_func, 1, 1)\n",
    "print f(data)\n",
    "# Note: frompyfunc will always return a numpy array of python objects\n",
    "print f(data).dtype"
   ]
  },
  {
   "cell_type": "markdown",
   "metadata": {},
   "source": [
    "###vectorize"
   ]
  },
  {
   "cell_type": "code",
   "execution_count": 38,
   "metadata": {
    "collapsed": false
   },
   "outputs": [
    {
     "name": "stdout",
     "output_type": "stream",
     "text": [
      "[2 3 0 0]\n"
     ]
    }
   ],
   "source": [
    "# From the docs (https://github.com/numpy/numpy/blob/v1.9.1/numpy/lib/function_base.py#L1627)\n",
    "# The `vectorize` function is provided primarily for convenience, not for\n",
    "# performance. The implementation is essentially a for loop.\n",
    "g = np.vectorize(my_func)\n",
    "print g(data)"
   ]
  },
  {
   "cell_type": "code",
   "execution_count": 40,
   "metadata": {
    "collapsed": false
   },
   "outputs": [
    {
     "name": "stdout",
     "output_type": "stream",
     "text": [
      ". . . . [ 1.  1.  1.] float64\n",
      ". . . . [1 1 1] int32\n",
      ". . . [1 1 1] int32\n"
     ]
    }
   ],
   "source": [
    "# Just to quick explain (Again?) the weird vectorize output type\n",
    "# It is really simple: If no output type is given, vectorize will run once with the first array value,\n",
    "# so that he can decide the data type. Example:\n",
    "\n",
    "def raw_float_func(x):\n",
    "    print \".\",\n",
    "    return 1.0\n",
    "float_ufunc = np.vectorize(raw_float_func)\n",
    "\n",
    "def raw_int_func(x):\n",
    "    print \".\",\n",
    "    return 1\n",
    "int_ufunc = np.vectorize(raw_int_func)\n",
    "\n",
    "data = np.array(['a', 'b', 'c'])\n",
    "result = float_ufunc(data)\n",
    "print result, result.dtype\n",
    "\n",
    "result = int_ufunc(data)\n",
    "print result, result.dtype\n",
    "\n",
    "# We can also choose the output type when vectorizing\n",
    "int_to_float_ufunc = np.vectorize(raw_int_func, otypes=[np.int])\n",
    "result = int_to_float_ufunc(data)\n",
    "print result, result.dtype"
   ]
  },
  {
   "cell_type": "markdown",
   "metadata": {},
   "source": [
    "##Some timing"
   ]
  },
  {
   "cell_type": "code",
   "execution_count": 5,
   "metadata": {
    "collapsed": false
   },
   "outputs": [
    {
     "name": "stdout",
     "output_type": "stream",
     "text": [
      "1 loops, best of 3: 2.27 s per loop\n",
      "1 loops, best of 3: 1.42 s per loop\n",
      "1 loops, best of 3: 2.52 s per loop\n",
      "10 loops, best of 3: 23.2 ms per loop\n"
     ]
    }
   ],
   "source": [
    "# Which one is faster?\n",
    "def my_func(x):\n",
    "    if x > 10:\n",
    "        return 0.0\n",
    "    return x + 1\n",
    "\n",
    "f = np.frompyfunc(my_func, 1, 1)\n",
    "g = np.vectorize(my_func)\n",
    "\n",
    "def raw_python(data):\n",
    "    o2 = []\n",
    "    for i in data:\n",
    "        o2.append(my_func(i))\n",
    "\n",
    "def raw_numpy(data):\n",
    "    mask = data > 10\n",
    "    data += 1\n",
    "    data[mask] = 0.0\n",
    "\n",
    "\n",
    "data = np.arange(int(1e+7))\n",
    "raw_data = xrange(int(1e+7))\n",
    "                 \n",
    "%timeit raw_python(raw_data)\n",
    "%timeit f(data)\n",
    "%timeit g(data)\n",
    "%timeit raw_numpy(data)"
   ]
  },
  {
   "cell_type": "markdown",
   "metadata": {},
   "source": [
    "## Advantages and a bit more about ufuncs"
   ]
  },
  {
   "cell_type": "code",
   "execution_count": 47,
   "metadata": {
    "collapsed": false
   },
   "outputs": [
    {
     "name": "stdout",
     "output_type": "stream",
     "text": [
      "*\n"
     ]
    },
    {
     "data": {
      "text/plain": [
       "array(['*', '+', ',', '-', '.'], \n",
       "      dtype='|S1')"
      ]
     },
     "execution_count": 47,
     "metadata": {},
     "output_type": "execute_result"
    }
   ],
   "source": [
    "# And what are the advantages, since it seems slow??\n",
    "# We can vectorize python functions\n",
    "# Example:\n",
    "\n",
    "print chr(42)\n",
    "\n",
    "# Exception:\n",
    "# print chr(np.array([1,2,3,4,5]))\n",
    "\n",
    "ufunc_chr = np.vectorize(chr)\n",
    "ufunc_chr(np.array([42,43,44,45,46]))"
   ]
  },
  {
   "cell_type": "code",
   "execution_count": 51,
   "metadata": {
    "collapsed": false
   },
   "outputs": [
    {
     "name": "stdout",
     "output_type": "stream",
     "text": [
      "1 loops, best of 3: 1.01 s per loop\n",
      "1 loops, best of 3: 1.33 s per loop\n",
      "10 loops, best of 3: 74.2 ms per loop\n"
     ]
    }
   ],
   "source": [
    "# BOOKMEETING TESTS ----------------------------------------------\n",
    "import math\n",
    "ufunc_sin = np.vectorize(math.sin)\n",
    "frompyfunc = np.frompyfunc(math.sin, 1, 1)\n",
    "\n",
    "%timeit frompyfunc(data)\n",
    "%timeit ufunc_sin(data)\n",
    "%timeit np.sin(data)\n",
    "# ----------------------------------------------------------------"
   ]
  },
  {
   "cell_type": "code",
   "execution_count": 7,
   "metadata": {
    "collapsed": false
   },
   "outputs": [
    {
     "name": "stdout",
     "output_type": "stream",
     "text": [
      "[ 1.  7.  3.]\n",
      "[ 6.  7.  8.]\n"
     ]
    }
   ],
   "source": [
    "# Example of user-defined ufunc with multiple inputs\n",
    "def my_ufunc(x, y):\n",
    "    if x > y:\n",
    "        return x\n",
    "    else:\n",
    "        return x + y\n",
    "\n",
    "f = np.vectorize(my_ufunc, otypes=[np.float64])\n",
    "print f(np.array([1,2,3]), np.array([0,5,0]))\n",
    "\n",
    "# And broadcasting works on those cases!\n",
    "print f(np.array([1,2,3]), 5)"
   ]
  },
  {
   "cell_type": "code",
   "execution_count": 57,
   "metadata": {
    "collapsed": false
   },
   "outputs": [
    {
     "data": {
      "text/plain": [
       "(array([ 1.,  2.,  3.]), array([ 2.,  3.,  4.]))"
      ]
     },
     "execution_count": 57,
     "metadata": {},
     "output_type": "execute_result"
    }
   ],
   "source": [
    "# Example of user-defined ufunc with multiple outputs\n",
    "def my_ufunc(x):\n",
    "    return x, x + 1\n",
    "\n",
    "f = np.vectorize(my_ufunc, otypes=[np.float64, np.float64])\n",
    "f(np.array([1,2,3]))"
   ]
  },
  {
   "cell_type": "markdown",
   "metadata": {},
   "source": [
    "# Using numba to speed things up"
   ]
  },
  {
   "cell_type": "markdown",
   "metadata": {},
   "source": [
    "\"Numba gives you the power to speed up your applications with high performance functions written directly in Python.\"\n",
    "\n",
    "http://numba.pydata.org/numba-doc/0.20.0/user/overview.html"
   ]
  },
  {
   "cell_type": "code",
   "execution_count": 58,
   "metadata": {
    "collapsed": false
   },
   "outputs": [
    {
     "name": "stdout",
     "output_type": "stream",
     "text": [
      "1 loops, best of 3: 1.24 s per loop\n"
     ]
    }
   ],
   "source": [
    "def f(x, y):\n",
    "    result = 0.0\n",
    "    for i in xrange(x):\n",
    "        result += i ** 2\n",
    "    for j in xrange(y):\n",
    "        result += j ** 2\n",
    "    return result\n",
    "\n",
    "def py_f(x_vec, y_vec):\n",
    "    results = []\n",
    "    for i, j in izip(x_vec, y_vec):\n",
    "        results.append(f(i, j))\n",
    "    return results\n",
    "\n",
    "%timeit py_f(xrange(5000), [5] * 5000)"
   ]
  },
  {
   "cell_type": "code",
   "execution_count": 59,
   "metadata": {
    "collapsed": false
   },
   "outputs": [
    {
     "name": "stdout",
     "output_type": "stream",
     "text": [
      "1 loops, best of 3: 1.19 s per loop\n"
     ]
    }
   ],
   "source": [
    "def f(x, y):\n",
    "    result = 0.0\n",
    "    for i in xrange(x):\n",
    "        result += i ** 2\n",
    "    for j in xrange(y):\n",
    "        result += j ** 2\n",
    "    return result\n",
    "ufunc_f = np.vectorize(f, otypes=[np.float64])\n",
    "\n",
    "%timeit ufunc_f(np.arange(5000), 5)"
   ]
  },
  {
   "cell_type": "code",
   "execution_count": 65,
   "metadata": {
    "collapsed": false
   },
   "outputs": [
    {
     "name": "stdout",
     "output_type": "stream",
     "text": [
      "100 loops, best of 3: 17.6 ms per loop\n",
      "The slowest run took 4.12 times longer than the fastest. This could mean that an intermediate result is being cached \n",
      "100 loops, best of 3: 17.7 ms per loop\n"
     ]
    }
   ],
   "source": [
    "@numba.jit(nopython=True)\n",
    "def f(x, y):\n",
    "    result = 0.0\n",
    "    for i in xrange(x):\n",
    "        result += i ** 2\n",
    "    for j in xrange(y):\n",
    "        result += j ** 2\n",
    "    return result\n",
    "numba_ufunc_f = np.vectorize(f, otypes=[np.float64])\n",
    "\n",
    "# option (nopython=True)\n",
    "# From the docs:\n",
    "# A Numba compilation mode that generates code that does not access the Python C API.\n",
    "# This compilation mode produces the highest performance code.\n",
    "# http://numba.pydata.org/numba-doc/0.20.0/glossary.html#term-nopython-mode\n",
    "numba_ufunc_f(np.arange(5000), 5)\n",
    "\n",
    "%timeit numba_ufunc_f(np.arange(5000), 5)\n",
    "%timeit numba_ufunc_f(np.arange(5000, dtype=np.float64), 5)"
   ]
  },
  {
   "cell_type": "code",
   "execution_count": 8,
   "metadata": {
    "collapsed": false
   },
   "outputs": [
    {
     "name": "stdout",
     "output_type": "stream",
     "text": [
      "1.0\n",
      "0.0\n"
     ]
    }
   ],
   "source": [
    "# BOOKMEETING TESTS ----------------------------------------------\n",
    "@numba.jit(nopython=True)\n",
    "def f(x):\n",
    "    if x > 10:\n",
    "        return float(0)\n",
    "    return 1\n",
    "\n",
    "print f(1.0)\n",
    "print f(11.0)\n",
    "# ----------------------------------------------------------------"
   ]
  },
  {
   "cell_type": "code",
   "execution_count": 89,
   "metadata": {
    "collapsed": false
   },
   "outputs": [
    {
     "name": "stdout",
     "output_type": "stream",
     "text": [
      "The slowest run took 5.81 times longer than the fastest. This could mean that an intermediate result is being cached \n",
      "100 loops, best of 3: 17.4 ms per loop\n"
     ]
    }
   ],
   "source": [
    "@numba.vectorize(nopython=True)\n",
    "def f(x, y):\n",
    "    result = 0.0\n",
    "    for i in xrange(x):\n",
    "        result += i ** 2\n",
    "    for j in xrange(y):\n",
    "        result += j ** 2\n",
    "    return result\n",
    "\n",
    "%timeit f(np.arange(5000), 5)"
   ]
  },
  {
   "cell_type": "code",
   "execution_count": 103,
   "metadata": {
    "collapsed": false
   },
   "outputs": [
    {
     "name": "stdout",
     "output_type": "stream",
     "text": [
      "10 loops, best of 3: 70.6 ms per loop\n",
      "1 loops, best of 3: 2.08 s per loop\n",
      "10 loops, best of 3: 80.4 ms per loop\n"
     ]
    }
   ],
   "source": [
    "@numba.vectorize(nopython=True)\n",
    "def mysin(x):\n",
    "    return np.sin(x)\n",
    "\n",
    "@numba.jit(nopython=True)\n",
    "def my_slow_sin(x):\n",
    "    return math.sin(x)\n",
    "vec_my_slow_sin = np.vectorize(my_slow_sin)\n",
    "\n",
    "\n",
    "@numba.jit(nopython=True)\n",
    "def my_np_sin(x):\n",
    "    return np.sin(x)\n",
    "\n",
    "vec_np_sin = np.vectorize(my_np_sin)\n",
    "vec_my_slow_sin(data)\n",
    "\n",
    "%timeit mysin(data)\n",
    "%timeit vec_my_slow_sin(data)\n",
    "%timeit my_np_sin(data)"
   ]
  },
  {
   "cell_type": "code",
   "execution_count": 122,
   "metadata": {
    "collapsed": false
   },
   "outputs": [
    {
     "name": "stdout",
     "output_type": "stream",
     "text": [
      "; ModuleID = '<string>'\n",
      "target datalayout = \"e-m:e-i64:64-f80:128-n8:16:32:64-S128\"\n",
      "target triple = \"x86_64-pc-windows-msvc\"\n",
      "\n",
      "@PyExc_RuntimeError = external global i8\n",
      "@.const.my_slow_sin = internal constant [12 x i8] c\"my_slow_sin\\00\"\n",
      "@\".const.Fatal_error:_missing__dynfunc.Closure\" = internal constant [38 x i8] c\"Fatal error: missing _dynfunc.Closure\\00\"\n",
      "@.const.missing_Environment = internal constant [20 x i8] c\"missing Environment\\00\"\n",
      "\n",
      "; Function Attrs: nounwind\n",
      "define i32 @\"__main__.my_slow_sin$51.float64\"(double* nocapture %retptr, { i8*, i32 }** nocapture readnone %excinfo, i8* nocapture readnone %env, double %arg.x) #0 {\n",
      "entry:\n",
      "  %.16 = tail call double @llvm.sin.f64(double %arg.x)\n",
      "  store double %.16, double* %retptr, align 8\n",
      "  ret i32 0\n",
      "}\n",
      "\n",
      "; Function Attrs: nounwind readnone\n",
      "declare double @llvm.sin.f64(double) #1\n",
      "\n",
      "define i8* @\"wrapper.__main__.my_slow_sin$51.float64\"(i8* %py_closure, i8* %py_args, i8* nocapture readnone %py_kws) {\n",
      "entry:\n",
      "  %.5 = alloca i8*, align 8\n",
      "  %.6 = call i32 (i8*, i8*, i64, i64, ...)* @PyArg_UnpackTuple(i8* %py_args, i8* getelementptr inbounds ([12 x i8]* @.const.my_slow_sin, i64 0, i64 0), i64 1, i64 1, i8** %.5)\n",
      "  %.7 = icmp eq i32 %.6, 0\n",
      "  br i1 %.7, label %entry.if, label %entry.endif, !prof !0\n",
      "\n",
      "entry.if:                                         ; preds = %entry.endif, %entry\n",
      "  ret i8* null\n",
      "\n",
      "entry.endif:                                      ; preds = %entry\n",
      "  %.11 = load i8** %.5, align 8\n",
      "  %.12 = call i8* @PyNumber_Float(i8* %.11)\n",
      "  %.13 = call double @PyFloat_AsDouble(i8* %.12)\n",
      "  call void @Py_DecRef(i8* %.12)\n",
      "  %.15 = call i8* @PyErr_Occurred()\n",
      "  %.16 = icmp eq i8* %.15, null\n",
      "  br i1 %.16, label %entry.endif.endif, label %entry.if, !prof !1\n",
      "\n",
      "entry.endif.endif:                                ; preds = %entry.endif\n",
      "  %.20 = icmp eq i8* %py_closure, null\n",
      "  br i1 %.20, label %entry.endif.endif.if, label %entry.endif.endif.endif, !prof !0\n",
      "\n",
      "entry.endif.endif.if:                             ; preds = %entry.endif.endif\n",
      "  %.22 = call i32 @puts(i8* getelementptr inbounds ([38 x i8]* @\".const.Fatal_error:_missing__dynfunc.Closure\", i64 0, i64 0))\n",
      "  unreachable\n",
      "\n",
      "entry.endif.endif.endif:                          ; preds = %entry.endif.endif\n",
      "  %.24 = ptrtoint i8* %py_closure to i64\n",
      "  %.25 = add i64 %.24, 24\n",
      "  %.27 = inttoptr i64 %.25 to { i8* }*\n",
      "  %.281 = bitcast { i8* }* %.27 to i8**\n",
      "  %.29 = load i8** %.281, align 8\n",
      "  %.34 = icmp eq i8* %.29, null\n",
      "  br i1 %.34, label %entry.endif.endif.endif.if, label %entry.endif.endif.endif.endif, !prof !0\n",
      "\n",
      "entry.endif.endif.endif.if:                       ; preds = %entry.endif.endif.endif\n",
      "  call void @PyErr_SetString(i8* @PyExc_RuntimeError, i8* getelementptr inbounds ([20 x i8]* @.const.missing_Environment, i64 0, i64 0))\n",
      "  ret i8* null\n",
      "\n",
      "entry.endif.endif.endif.endif:                    ; preds = %entry.endif.endif.endif\n",
      "  %.16.i = call double @llvm.sin.f64(double %.13) #0\n",
      "  %.55 = call i8* @PyFloat_FromDouble(double %.16.i)\n",
      "  ret i8* %.55\n",
      "}\n",
      "\n",
      "declare i32 @PyArg_UnpackTuple(i8*, i8*, i64, i64, ...)\n",
      "\n",
      "declare i8* @PyNumber_Float(i8*)\n",
      "\n",
      "declare double @PyFloat_AsDouble(i8*)\n",
      "\n",
      "declare void @Py_DecRef(i8*)\n",
      "\n",
      "declare i8* @PyErr_Occurred()\n",
      "\n",
      "; Function Attrs: nounwind\n",
      "declare i32 @puts(i8* nocapture readonly) #0\n",
      "\n",
      "declare void @PyErr_SetString(i8*, i8*)\n",
      "\n",
      "declare i8* @PyFloat_FromDouble(double)\n",
      "\n",
      "attributes #0 = { nounwind }\n",
      "attributes #1 = { nounwind readnone }\n",
      "\n",
      "!0 = !{!\"branch_weights\", i32 1, i32 99}\n",
      "!1 = !{!\"branch_weights\", i32 99, i32 1}\n",
      "\n"
     ]
    }
   ],
   "source": [
    "# BOOKMEETING TESTS ----------------------------------------------\n",
    "print my_slow_sin.inspect_llvm().values()[0]\n",
    "# ----------------------------------------------------------------"
   ]
  },
  {
   "cell_type": "code",
   "execution_count": 150,
   "metadata": {
    "collapsed": true
   },
   "outputs": [],
   "source": [
    "# What else can we do?\n",
    "\n",
    "# Option nogil=True:\n",
    "# Code running with the GIL (Global Interpreter Lock) released runs concurrently with other threads\n",
    "# executing Python or Numba code\n",
    "\n",
    "# Inspect the numba function with inspect_types, inspect_llvm and inspect_asm\n",
    "\n",
    "# Play around with numbaPro -> Allows code generation for CPU, Multicore CPU and GPU\n",
    "\n",
    "# Ideas for next meetings?\n",
    "# Overall discussion?\n"
   ]
  }
 ],
 "metadata": {
  "kernelspec": {
   "display_name": "Python 2",
   "language": "python",
   "name": "python2"
  },
  "language_info": {
   "codemirror_mode": {
    "name": "ipython",
    "version": 2
   },
   "file_extension": ".py",
   "mimetype": "text/x-python",
   "name": "python",
   "nbconvert_exporter": "python",
   "pygments_lexer": "ipython2",
   "version": "2.7.10"
  }
 },
 "nbformat": 4,
 "nbformat_minor": 0
}
